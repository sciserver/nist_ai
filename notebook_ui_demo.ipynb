{
 "cells": [
  {
   "cell_type": "code",
   "execution_count": 1,
   "id": "0a28cd22-ec7f-4cfb-ad8e-0c34001c9fd9",
   "metadata": {
    "collapsed": true,
    "execution": {
     "iopub.execute_input": "2023-09-05T15:19:38.545130Z",
     "iopub.status.busy": "2023-09-05T15:19:38.544508Z",
     "iopub.status.idle": "2023-09-05T15:20:05.472943Z",
     "shell.execute_reply": "2023-09-05T15:20:05.469986Z",
     "shell.execute_reply.started": "2023-09-05T15:19:38.544996Z"
    },
    "jupyter": {
     "outputs_hidden": true
    },
    "tags": []
   },
   "outputs": [
    {
     "name": "stdout",
     "output_type": "stream",
     "text": [
      "Requirement already satisfied: dash_bootstrap_components in /home/idies/mambaforge/envs/py39/lib/python3.9/site-packages (1.4.2)\n",
      "Requirement already satisfied: dash>=2.0.0 in /home/idies/mambaforge/envs/py39/lib/python3.9/site-packages (from dash_bootstrap_components) (2.13.0)\n",
      "Requirement already satisfied: Flask<2.3.0,>=1.0.4 in /home/idies/mambaforge/envs/py39/lib/python3.9/site-packages (from dash>=2.0.0->dash_bootstrap_components) (2.2.2)\n",
      "Requirement already satisfied: setuptools in /home/idies/mambaforge/envs/py39/lib/python3.9/site-packages (from dash>=2.0.0->dash_bootstrap_components) (65.5.1)\n",
      "Requirement already satisfied: typing-extensions>=4.1.1 in /home/idies/mambaforge/envs/py39/lib/python3.9/site-packages (from dash>=2.0.0->dash_bootstrap_components) (4.7.1)\n",
      "Requirement already satisfied: requests in /home/idies/mambaforge/envs/py39/lib/python3.9/site-packages (from dash>=2.0.0->dash_bootstrap_components) (2.28.1)\n",
      "Requirement already satisfied: dash-core-components==2.0.0 in /home/idies/mambaforge/envs/py39/lib/python3.9/site-packages (from dash>=2.0.0->dash_bootstrap_components) (2.0.0)\n",
      "Requirement already satisfied: Werkzeug<2.3.0 in /home/idies/mambaforge/envs/py39/lib/python3.9/site-packages (from dash>=2.0.0->dash_bootstrap_components) (2.2.2)\n",
      "Requirement already satisfied: plotly>=5.0.0 in /home/idies/mambaforge/envs/py39/lib/python3.9/site-packages (from dash>=2.0.0->dash_bootstrap_components) (5.11.0)\n",
      "Requirement already satisfied: dash-html-components==2.0.0 in /home/idies/mambaforge/envs/py39/lib/python3.9/site-packages (from dash>=2.0.0->dash_bootstrap_components) (2.0.0)\n",
      "Requirement already satisfied: nest-asyncio in /home/idies/mambaforge/envs/py39/lib/python3.9/site-packages (from dash>=2.0.0->dash_bootstrap_components) (1.5.6)\n",
      "Requirement already satisfied: dash-table==5.0.0 in /home/idies/mambaforge/envs/py39/lib/python3.9/site-packages (from dash>=2.0.0->dash_bootstrap_components) (5.0.0)\n",
      "Requirement already satisfied: ansi2html in /home/idies/mambaforge/envs/py39/lib/python3.9/site-packages (from dash>=2.0.0->dash_bootstrap_components) (0.0.0)\n",
      "Requirement already satisfied: retrying in /home/idies/mambaforge/envs/py39/lib/python3.9/site-packages (from dash>=2.0.0->dash_bootstrap_components) (1.3.3)\n",
      "Requirement already satisfied: Jinja2>=3.0 in /home/idies/mambaforge/envs/py39/lib/python3.9/site-packages (from Flask<2.3.0,>=1.0.4->dash>=2.0.0->dash_bootstrap_components) (3.1.2)\n",
      "Requirement already satisfied: itsdangerous>=2.0 in /home/idies/mambaforge/envs/py39/lib/python3.9/site-packages (from Flask<2.3.0,>=1.0.4->dash>=2.0.0->dash_bootstrap_components) (2.1.2)\n",
      "Requirement already satisfied: importlib-metadata>=3.6.0 in /home/idies/mambaforge/envs/py39/lib/python3.9/site-packages (from Flask<2.3.0,>=1.0.4->dash>=2.0.0->dash_bootstrap_components) (5.0.0)\n",
      "Requirement already satisfied: click>=8.0 in /home/idies/mambaforge/envs/py39/lib/python3.9/site-packages (from Flask<2.3.0,>=1.0.4->dash>=2.0.0->dash_bootstrap_components) (8.1.3)\n",
      "Requirement already satisfied: tenacity>=6.2.0 in /home/idies/mambaforge/envs/py39/lib/python3.9/site-packages (from plotly>=5.0.0->dash>=2.0.0->dash_bootstrap_components) (8.1.0)\n",
      "Requirement already satisfied: MarkupSafe>=2.1.1 in /home/idies/mambaforge/envs/py39/lib/python3.9/site-packages (from Werkzeug<2.3.0->dash>=2.0.0->dash_bootstrap_components) (2.1.1)\n",
      "Requirement already satisfied: idna<4,>=2.5 in /home/idies/mambaforge/envs/py39/lib/python3.9/site-packages (from requests->dash>=2.0.0->dash_bootstrap_components) (3.4)\n",
      "Requirement already satisfied: urllib3<1.27,>=1.21.1 in /home/idies/mambaforge/envs/py39/lib/python3.9/site-packages (from requests->dash>=2.0.0->dash_bootstrap_components) (1.26.11)\n",
      "Requirement already satisfied: charset-normalizer<3,>=2 in /home/idies/mambaforge/envs/py39/lib/python3.9/site-packages (from requests->dash>=2.0.0->dash_bootstrap_components) (2.1.1)\n",
      "Requirement already satisfied: certifi>=2017.4.17 in /home/idies/mambaforge/envs/py39/lib/python3.9/site-packages (from requests->dash>=2.0.0->dash_bootstrap_components) (2023.7.22)\n",
      "Requirement already satisfied: six>=1.7.0 in /home/idies/mambaforge/envs/py39/lib/python3.9/site-packages (from retrying->dash>=2.0.0->dash_bootstrap_components) (1.16.0)\n",
      "Requirement already satisfied: zipp>=0.5 in /home/idies/mambaforge/envs/py39/lib/python3.9/site-packages (from importlib-metadata>=3.6.0->Flask<2.3.0,>=1.0.4->dash>=2.0.0->dash_bootstrap_components) (3.10.0)\n",
      "Note: you may need to restart the kernel to use updated packages.\n",
      "Requirement already satisfied: dash_extensions in /home/idies/mambaforge/envs/py39/lib/python3.9/site-packages (1.0.3)\n",
      "Requirement already satisfied: dataclass-wizard<0.23.0,>=0.22.2 in /home/idies/mambaforge/envs/py39/lib/python3.9/site-packages (from dash_extensions) (0.22.2)\n",
      "Requirement already satisfied: Flask-Caching==2.0.2 in /home/idies/mambaforge/envs/py39/lib/python3.9/site-packages (from dash_extensions) (2.0.2)\n",
      "Requirement already satisfied: more-itertools<10.0.0,>=9.0.0 in /home/idies/mambaforge/envs/py39/lib/python3.9/site-packages (from dash_extensions) (9.1.0)\n",
      "Requirement already satisfied: dash>=2.9.3 in /home/idies/mambaforge/envs/py39/lib/python3.9/site-packages (from dash_extensions) (2.13.0)\n",
      "Requirement already satisfied: jsbeautifier<2.0.0,>=1.14.3 in /home/idies/mambaforge/envs/py39/lib/python3.9/site-packages (from dash_extensions) (1.14.9)\n",
      "Requirement already satisfied: cachelib<0.10.0,>=0.9.0 in /home/idies/mambaforge/envs/py39/lib/python3.9/site-packages (from Flask-Caching==2.0.2->dash_extensions) (0.9.0)\n",
      "Requirement already satisfied: Flask<3 in /home/idies/mambaforge/envs/py39/lib/python3.9/site-packages (from Flask-Caching==2.0.2->dash_extensions) (2.2.2)\n",
      "Requirement already satisfied: plotly>=5.0.0 in /home/idies/mambaforge/envs/py39/lib/python3.9/site-packages (from dash>=2.9.3->dash_extensions) (5.11.0)\n",
      "Requirement already satisfied: dash-html-components==2.0.0 in /home/idies/mambaforge/envs/py39/lib/python3.9/site-packages (from dash>=2.9.3->dash_extensions) (2.0.0)\n",
      "Requirement already satisfied: nest-asyncio in /home/idies/mambaforge/envs/py39/lib/python3.9/site-packages (from dash>=2.9.3->dash_extensions) (1.5.6)\n",
      "Requirement already satisfied: dash-core-components==2.0.0 in /home/idies/mambaforge/envs/py39/lib/python3.9/site-packages (from dash>=2.9.3->dash_extensions) (2.0.0)\n",
      "Requirement already satisfied: setuptools in /home/idies/mambaforge/envs/py39/lib/python3.9/site-packages (from dash>=2.9.3->dash_extensions) (65.5.1)\n",
      "Requirement already satisfied: ansi2html in /home/idies/mambaforge/envs/py39/lib/python3.9/site-packages (from dash>=2.9.3->dash_extensions) (0.0.0)\n",
      "Requirement already satisfied: requests in /home/idies/mambaforge/envs/py39/lib/python3.9/site-packages (from dash>=2.9.3->dash_extensions) (2.28.1)\n",
      "Requirement already satisfied: retrying in /home/idies/mambaforge/envs/py39/lib/python3.9/site-packages (from dash>=2.9.3->dash_extensions) (1.3.3)\n",
      "Requirement already satisfied: dash-table==5.0.0 in /home/idies/mambaforge/envs/py39/lib/python3.9/site-packages (from dash>=2.9.3->dash_extensions) (5.0.0)\n",
      "Requirement already satisfied: Werkzeug<2.3.0 in /home/idies/mambaforge/envs/py39/lib/python3.9/site-packages (from dash>=2.9.3->dash_extensions) (2.2.2)\n",
      "Requirement already satisfied: typing-extensions>=4.1.1 in /home/idies/mambaforge/envs/py39/lib/python3.9/site-packages (from dash>=2.9.3->dash_extensions) (4.7.1)\n",
      "Requirement already satisfied: editorconfig>=0.12.2 in /home/idies/mambaforge/envs/py39/lib/python3.9/site-packages (from jsbeautifier<2.0.0,>=1.14.3->dash_extensions) (0.12.3)\n",
      "Requirement already satisfied: six>=1.13.0 in /home/idies/mambaforge/envs/py39/lib/python3.9/site-packages (from jsbeautifier<2.0.0,>=1.14.3->dash_extensions) (1.16.0)\n",
      "Requirement already satisfied: Jinja2>=3.0 in /home/idies/mambaforge/envs/py39/lib/python3.9/site-packages (from Flask<3->Flask-Caching==2.0.2->dash_extensions) (3.1.2)\n",
      "Requirement already satisfied: importlib-metadata>=3.6.0 in /home/idies/mambaforge/envs/py39/lib/python3.9/site-packages (from Flask<3->Flask-Caching==2.0.2->dash_extensions) (5.0.0)\n",
      "Requirement already satisfied: itsdangerous>=2.0 in /home/idies/mambaforge/envs/py39/lib/python3.9/site-packages (from Flask<3->Flask-Caching==2.0.2->dash_extensions) (2.1.2)\n",
      "Requirement already satisfied: click>=8.0 in /home/idies/mambaforge/envs/py39/lib/python3.9/site-packages (from Flask<3->Flask-Caching==2.0.2->dash_extensions) (8.1.3)\n",
      "Requirement already satisfied: tenacity>=6.2.0 in /home/idies/mambaforge/envs/py39/lib/python3.9/site-packages (from plotly>=5.0.0->dash>=2.9.3->dash_extensions) (8.1.0)\n",
      "Requirement already satisfied: MarkupSafe>=2.1.1 in /home/idies/mambaforge/envs/py39/lib/python3.9/site-packages (from Werkzeug<2.3.0->dash>=2.9.3->dash_extensions) (2.1.1)\n",
      "Requirement already satisfied: urllib3<1.27,>=1.21.1 in /home/idies/mambaforge/envs/py39/lib/python3.9/site-packages (from requests->dash>=2.9.3->dash_extensions) (1.26.11)\n",
      "Requirement already satisfied: idna<4,>=2.5 in /home/idies/mambaforge/envs/py39/lib/python3.9/site-packages (from requests->dash>=2.9.3->dash_extensions) (3.4)\n",
      "Requirement already satisfied: certifi>=2017.4.17 in /home/idies/mambaforge/envs/py39/lib/python3.9/site-packages (from requests->dash>=2.9.3->dash_extensions) (2023.7.22)\n",
      "Requirement already satisfied: charset-normalizer<3,>=2 in /home/idies/mambaforge/envs/py39/lib/python3.9/site-packages (from requests->dash>=2.9.3->dash_extensions) (2.1.1)\n",
      "Requirement already satisfied: zipp>=0.5 in /home/idies/mambaforge/envs/py39/lib/python3.9/site-packages (from importlib-metadata>=3.6.0->Flask<3->Flask-Caching==2.0.2->dash_extensions) (3.10.0)\n",
      "Note: you may need to restart the kernel to use updated packages.\n",
      "Requirement already satisfied: dash-leaflet[geobuf] in /home/idies/mambaforge/envs/py39/lib/python3.9/site-packages (1.0.8)\n",
      "Requirement already satisfied: dash>=2.13.0 in /home/idies/mambaforge/envs/py39/lib/python3.9/site-packages (from dash-leaflet[geobuf]) (2.13.0)\n",
      "Collecting geobuf==1.1.1\n",
      "  Downloading geobuf-1.1.1-py3-none-any.whl (13 kB)\n",
      "Collecting protobuf==3.20.0\n",
      "  Downloading protobuf-3.20.0-cp39-cp39-manylinux_2_5_x86_64.manylinux1_x86_64.whl (1.0 MB)\n",
      "\u001b[2K     \u001b[90m━━━━━━━━━━━━━━━━━━━━━━━━━━━━━━━━━━━━━━━━\u001b[0m \u001b[32m1.0/1.0 MB\u001b[0m \u001b[31m12.5 MB/s\u001b[0m eta \u001b[36m0:00:00\u001b[0m00:01\u001b[0m00:01\u001b[0m\n",
      "\u001b[?25hRequirement already satisfied: click in /home/idies/mambaforge/envs/py39/lib/python3.9/site-packages (from geobuf==1.1.1->dash-leaflet[geobuf]) (8.1.3)\n",
      "Requirement already satisfied: six in /home/idies/mambaforge/envs/py39/lib/python3.9/site-packages (from geobuf==1.1.1->dash-leaflet[geobuf]) (1.16.0)\n",
      "Requirement already satisfied: Flask<2.3.0,>=1.0.4 in /home/idies/mambaforge/envs/py39/lib/python3.9/site-packages (from dash>=2.13.0->dash-leaflet[geobuf]) (2.2.2)\n",
      "Requirement already satisfied: dash-table==5.0.0 in /home/idies/mambaforge/envs/py39/lib/python3.9/site-packages (from dash>=2.13.0->dash-leaflet[geobuf]) (5.0.0)\n",
      "Requirement already satisfied: requests in /home/idies/mambaforge/envs/py39/lib/python3.9/site-packages (from dash>=2.13.0->dash-leaflet[geobuf]) (2.28.1)\n",
      "Requirement already satisfied: setuptools in /home/idies/mambaforge/envs/py39/lib/python3.9/site-packages (from dash>=2.13.0->dash-leaflet[geobuf]) (65.5.1)\n",
      "Requirement already satisfied: dash-html-components==2.0.0 in /home/idies/mambaforge/envs/py39/lib/python3.9/site-packages (from dash>=2.13.0->dash-leaflet[geobuf]) (2.0.0)\n",
      "Requirement already satisfied: nest-asyncio in /home/idies/mambaforge/envs/py39/lib/python3.9/site-packages (from dash>=2.13.0->dash-leaflet[geobuf]) (1.5.6)\n",
      "Requirement already satisfied: Werkzeug<2.3.0 in /home/idies/mambaforge/envs/py39/lib/python3.9/site-packages (from dash>=2.13.0->dash-leaflet[geobuf]) (2.2.2)\n",
      "Requirement already satisfied: retrying in /home/idies/mambaforge/envs/py39/lib/python3.9/site-packages (from dash>=2.13.0->dash-leaflet[geobuf]) (1.3.3)\n",
      "Requirement already satisfied: typing-extensions>=4.1.1 in /home/idies/mambaforge/envs/py39/lib/python3.9/site-packages (from dash>=2.13.0->dash-leaflet[geobuf]) (4.7.1)\n",
      "Requirement already satisfied: plotly>=5.0.0 in /home/idies/mambaforge/envs/py39/lib/python3.9/site-packages (from dash>=2.13.0->dash-leaflet[geobuf]) (5.11.0)\n",
      "Requirement already satisfied: ansi2html in /home/idies/mambaforge/envs/py39/lib/python3.9/site-packages (from dash>=2.13.0->dash-leaflet[geobuf]) (0.0.0)\n",
      "Requirement already satisfied: dash-core-components==2.0.0 in /home/idies/mambaforge/envs/py39/lib/python3.9/site-packages (from dash>=2.13.0->dash-leaflet[geobuf]) (2.0.0)\n",
      "Requirement already satisfied: itsdangerous>=2.0 in /home/idies/mambaforge/envs/py39/lib/python3.9/site-packages (from Flask<2.3.0,>=1.0.4->dash>=2.13.0->dash-leaflet[geobuf]) (2.1.2)\n",
      "Requirement already satisfied: Jinja2>=3.0 in /home/idies/mambaforge/envs/py39/lib/python3.9/site-packages (from Flask<2.3.0,>=1.0.4->dash>=2.13.0->dash-leaflet[geobuf]) (3.1.2)\n",
      "Requirement already satisfied: importlib-metadata>=3.6.0 in /home/idies/mambaforge/envs/py39/lib/python3.9/site-packages (from Flask<2.3.0,>=1.0.4->dash>=2.13.0->dash-leaflet[geobuf]) (5.0.0)\n",
      "Requirement already satisfied: tenacity>=6.2.0 in /home/idies/mambaforge/envs/py39/lib/python3.9/site-packages (from plotly>=5.0.0->dash>=2.13.0->dash-leaflet[geobuf]) (8.1.0)\n",
      "Requirement already satisfied: MarkupSafe>=2.1.1 in /home/idies/mambaforge/envs/py39/lib/python3.9/site-packages (from Werkzeug<2.3.0->dash>=2.13.0->dash-leaflet[geobuf]) (2.1.1)\n",
      "Requirement already satisfied: certifi>=2017.4.17 in /home/idies/mambaforge/envs/py39/lib/python3.9/site-packages (from requests->dash>=2.13.0->dash-leaflet[geobuf]) (2023.7.22)\n",
      "Requirement already satisfied: idna<4,>=2.5 in /home/idies/mambaforge/envs/py39/lib/python3.9/site-packages (from requests->dash>=2.13.0->dash-leaflet[geobuf]) (3.4)\n",
      "Requirement already satisfied: charset-normalizer<3,>=2 in /home/idies/mambaforge/envs/py39/lib/python3.9/site-packages (from requests->dash>=2.13.0->dash-leaflet[geobuf]) (2.1.1)\n",
      "Requirement already satisfied: urllib3<1.27,>=1.21.1 in /home/idies/mambaforge/envs/py39/lib/python3.9/site-packages (from requests->dash>=2.13.0->dash-leaflet[geobuf]) (1.26.11)\n",
      "Requirement already satisfied: zipp>=0.5 in /home/idies/mambaforge/envs/py39/lib/python3.9/site-packages (from importlib-metadata>=3.6.0->Flask<2.3.0,>=1.0.4->dash>=2.13.0->dash-leaflet[geobuf]) (3.10.0)\n",
      "Installing collected packages: protobuf, geobuf\n",
      "  Attempting uninstall: protobuf\n",
      "    Found existing installation: protobuf 3.19.6\n",
      "    Uninstalling protobuf-3.19.6:\n",
      "      Successfully uninstalled protobuf-3.19.6\n",
      "\u001b[31mERROR: pip's dependency resolver does not currently take into account all the packages that are installed. This behaviour is the source of the following dependency conflicts.\n",
      "tensorflow 2.10.0 requires protobuf<3.20,>=3.9.2, but you have protobuf 3.20.0 which is incompatible.\n",
      "tensorboard 2.10.1 requires protobuf<3.20,>=3.9.2, but you have protobuf 3.20.0 which is incompatible.\u001b[0m\u001b[31m\n",
      "\u001b[0mSuccessfully installed geobuf-1.1.1 protobuf-3.20.0\n",
      "Note: you may need to restart the kernel to use updated packages.\n"
     ]
    }
   ],
   "source": [
    "%pip install dash_bootstrap_components\n",
    "%pip install dash_extensions\n",
    "%pip install dash-leaflet[geobuf]"
   ]
  },
  {
   "cell_type": "code",
   "execution_count": 1,
   "id": "035d084c-5e75-4f79-bac9-5600db64079b",
   "metadata": {
    "execution": {
     "iopub.execute_input": "2023-09-05T16:54:49.269609Z",
     "iopub.status.busy": "2023-09-05T16:54:49.268791Z",
     "iopub.status.idle": "2023-09-05T16:54:52.332921Z",
     "shell.execute_reply": "2023-09-05T16:54:52.330265Z",
     "shell.execute_reply.started": "2023-09-05T16:54:49.269364Z"
    },
    "tags": []
   },
   "outputs": [],
   "source": [
    "import os\n",
    "\n",
    "import dash\n",
    "from jupyter_dash import JupyterDash\n",
    "\n",
    "import src.backend.repository as repo\n",
    "import src.frontend.dash_no_video as ui"
   ]
  },
  {
   "cell_type": "code",
   "execution_count": 2,
   "id": "bb16a853-1c2e-448c-8695-6f86bc126acc",
   "metadata": {
    "execution": {
     "iopub.execute_input": "2023-09-05T16:54:52.373443Z",
     "iopub.status.busy": "2023-09-05T16:54:52.372833Z",
     "iopub.status.idle": "2023-09-05T16:54:52.385139Z",
     "shell.execute_reply": "2023-09-05T16:54:52.383084Z",
     "shell.execute_reply.started": "2023-09-05T16:54:52.373321Z"
    },
    "tags": []
   },
   "outputs": [],
   "source": [
    "ffmpeg_binaries = \"/home/idies/workspace/nist_ai/extras/ffmpeg-6.0-amd64-static\"\n",
    "assert os.path.exists(ffmpeg_binaries)\n",
    "os.environ[\"PATH\"] = f\"{ffmpeg_binaries}:\" + os.environ[\"PATH\"]"
   ]
  },
  {
   "cell_type": "code",
   "execution_count": 4,
   "id": "716288fe-4f07-4f0f-8d86-93a467761b19",
   "metadata": {
    "execution": {
     "iopub.execute_input": "2023-09-05T16:55:07.039888Z",
     "iopub.status.busy": "2023-09-05T16:55:07.039066Z",
     "iopub.status.idle": "2023-09-05T16:55:07.087687Z",
     "shell.execute_reply": "2023-09-05T16:55:07.085684Z",
     "shell.execute_reply.started": "2023-09-05T16:55:07.039827Z"
    },
    "tags": []
   },
   "outputs": [],
   "source": [
    "JupyterDash.infer_jupyter_proxy_config()"
   ]
  },
  {
   "cell_type": "code",
   "execution_count": 5,
   "id": "87f8647c-9efd-4abb-b8c8-2801832e2610",
   "metadata": {
    "execution": {
     "iopub.execute_input": "2023-09-05T16:55:07.667780Z",
     "iopub.status.busy": "2023-09-05T16:55:07.666978Z",
     "iopub.status.idle": "2023-09-05T16:55:07.998541Z",
     "shell.execute_reply": "2023-09-05T16:55:07.996051Z",
     "shell.execute_reply.started": "2023-09-05T16:55:07.667722Z"
    },
    "tags": []
   },
   "outputs": [],
   "source": [
    "repository = repo.Repository(\n",
    "    db_auth_path=\"nist-ai.json\",\n",
    "    DROP_AND_CREATE_DANGER=False,  # this drops and creates tables\n",
    ")"
   ]
  },
  {
   "cell_type": "code",
   "execution_count": 6,
   "id": "029b958c-f26d-402c-895e-3a00f0b5ac95",
   "metadata": {
    "execution": {
     "iopub.execute_input": "2023-09-05T16:55:08.487572Z",
     "iopub.status.busy": "2023-09-05T16:55:08.486699Z",
     "iopub.status.idle": "2023-09-05T16:55:08.929192Z",
     "shell.execute_reply": "2023-09-05T16:55:08.926774Z",
     "shell.execute_reply.started": "2023-09-05T16:55:08.487513Z"
    },
    "tags": []
   },
   "outputs": [
    {
     "name": "stderr",
     "output_type": "stream",
     "text": [
      "/home/idies/mambaforge/envs/py39/lib/python3.9/site-packages/dash/dash.py:525: UserWarning:\n",
      "\n",
      "JupyterDash is deprecated, use Dash instead.\n",
      "See https://dash.plotly.com/dash-in-jupyter for more details.\n",
      "\n"
     ]
    },
    {
     "data": {
      "text/html": [
       "\n",
       "        <iframe\n",
       "            width=\"100%\"\n",
       "            height=\"650\"\n",
       "            src=\"http://127.0.0.1:8050/dockervm29/b4b1f1a5-41b4-11ee-82c5-5254001d4703/proxy/8050/\"\n",
       "            frameborder=\"0\"\n",
       "            allowfullscreen\n",
       "            \n",
       "        ></iframe>\n",
       "        "
      ],
      "text/plain": [
       "<IPython.lib.display.IFrame at 0x7f790b4b4b80>"
      ]
     },
     "metadata": {},
     "output_type": "display_data"
    },
    {
     "name": "stdout",
     "output_type": "stream",
     "text": [
      "Time to get thumbnails: 14.846537113189697\n"
     ]
    }
   ],
   "source": [
    "app = ui.build_app(\n",
    "    dash_cls=JupyterDash,\n",
    "    name=\"test\",\n",
    "    repo=repository,\n",
    ")\n",
    "\n",
    "app.run_server(debug=True, mode=\"jupyterlab\")"
   ]
  },
  {
   "cell_type": "code",
   "execution_count": null,
   "id": "dc9ac405-4583-413b-8cc1-a72c5da0876a",
   "metadata": {},
   "outputs": [],
   "source": []
  },
  {
   "cell_type": "code",
   "execution_count": null,
   "id": "36ce19c1-771f-4e02-84c9-d090a6a5e95e",
   "metadata": {},
   "outputs": [],
   "source": []
  }
 ],
 "metadata": {
  "kernelspec": {
   "display_name": "Python 3.9 (py39)",
   "language": "python",
   "name": "py39"
  },
  "language_info": {
   "codemirror_mode": {
    "name": "ipython",
    "version": 3
   },
   "file_extension": ".py",
   "mimetype": "text/x-python",
   "name": "python",
   "nbconvert_exporter": "python",
   "pygments_lexer": "ipython3",
   "version": "3.9.13"
  }
 },
 "nbformat": 4,
 "nbformat_minor": 5
}
